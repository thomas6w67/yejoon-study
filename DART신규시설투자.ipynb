{
 "cells": [
  {
   "cell_type": "code",
   "execution_count": 1,
   "metadata": {},
   "outputs": [],
   "source": [
    "import datetime\n",
    "from datetime import date\n",
    "from bs4 import BeautifulSoup\n",
    "import requests\n",
    "import pandas as pd\n",
    "import numpy as np"
   ]
  },
  {
   "cell_type": "code",
   "execution_count": 42,
   "metadata": {},
   "outputs": [],
   "source": [
    "def Finding(Way, path):\n",
    "    newval = driver.find_element(By.Way, path)\n",
    "    return newval"
   ]
  },
  {
   "cell_type": "code",
   "execution_count": 46,
   "metadata": {},
   "outputs": [
    {
     "name": "stderr",
     "output_type": "stream",
     "text": [
      "C:\\Users\\sungj\\AppData\\Local\\Temp\\ipykernel_9724\\1025757986.py:17: DeprecationWarning: executable_path has been deprecated, please pass in a Service object\n",
      "  driver = webdriver.Chrome('\"C:\\chrome_driver\\chromedriver.exe\"', chrome_options = chrome_options)\n",
      "C:\\Users\\sungj\\AppData\\Local\\Temp\\ipykernel_9724\\1025757986.py:17: DeprecationWarning: use options instead of chrome_options\n",
      "  driver = webdriver.Chrome('\"C:\\chrome_driver\\chromedriver.exe\"', chrome_options = chrome_options)\n"
     ]
    }
   ],
   "source": [
    "from selenium import webdriver\n",
    "from selenium.webdriver import ActionChains\n",
    "\n",
    "from selenium.webdriver.common.keys import Keys\n",
    "from selenium.webdriver.common.by import By\n",
    "from selenium.webdriver.support.select import Select\n",
    "\n",
    "from selenium.webdriver.support import expected_conditions as EC\n",
    "from selenium.webdriver.support.ui import Select\n",
    "from selenium.webdriver.support.ui import WebDriverWait\n",
    "import time\n",
    "chrome_options = webdriver.ChromeOptions()\n",
    "\n",
    "#chrome_options.add_argument(\"--headless\")\n",
    "chrome_options.add_argument('--no-sandbox')\n",
    "chrome_options.add_argument('--disable-dev-shm-usage')\n",
    "driver = webdriver.Chrome('\"C:\\chrome_driver\\chromedriver.exe\"', chrome_options = chrome_options)\n",
    "time.sleep(2)"
   ]
  },
  {
   "cell_type": "code",
   "execution_count": 51,
   "metadata": {},
   "outputs": [
    {
     "ename": "InvalidSelectorException",
     "evalue": "Message: invalid selector: Unable to locate an element with the xpath expression *[@id=\"tbody\"]/tr[{i}]/td[4] because of the following error:\nSyntaxError: Failed to execute 'evaluate' on 'Document': The string '*[@id=\"tbody\"]/tr[{i}]/td[4]' is not a valid XPath expression.\n  (Session info: chrome=109.0.5414.120)\nStacktrace:\nBacktrace:\n\t(No symbol) [0x006B6643]\n\t(No symbol) [0x0064BE21]\n\t(No symbol) [0x0054DA9D]\n\t(No symbol) [0x005509E4]\n\t(No symbol) [0x005508AD]\n\t(No symbol) [0x00550B30]\n\t(No symbol) [0x00580FAC]\n\t(No symbol) [0x0058147B]\n\t(No symbol) [0x005B8DC2]\n\t(No symbol) [0x0059FDC4]\n\t(No symbol) [0x005B6B09]\n\t(No symbol) [0x0059FB76]\n\t(No symbol) [0x005749C1]\n\t(No symbol) [0x00575E5D]\n\tGetHandleVerifier [0x0092A142+2497106]\n\tGetHandleVerifier [0x009585D3+2686691]\n\tGetHandleVerifier [0x0095BB9C+2700460]\n\tGetHandleVerifier [0x00763B10+635936]\n\t(No symbol) [0x00654A1F]\n\t(No symbol) [0x0065A418]\n\t(No symbol) [0x0065A505]\n\t(No symbol) [0x0066508B]\n\tBaseThreadInitThunk [0x75587D69+25]\n\tRtlInitializeExceptionChain [0x7785BB9B+107]\n\tRtlClearBits [0x7785BB1F+191]\n",
     "output_type": "error",
     "traceback": [
      "\u001b[1;31m---------------------------------------------------------------------------\u001b[0m",
      "\u001b[1;31mInvalidSelectorException\u001b[0m                  Traceback (most recent call last)",
      "Cell \u001b[1;32mIn[51], line 22\u001b[0m\n\u001b[0;32m     20\u001b[0m a \u001b[39m=\u001b[39m tds\u001b[39m.\u001b[39mfind_element(By\u001b[39m.\u001b[39mTAG_NAME, \u001b[39m'\u001b[39m\u001b[39ma\u001b[39m\u001b[39m'\u001b[39m)\n\u001b[0;32m     21\u001b[0m href \u001b[39m=\u001b[39m a\u001b[39m.\u001b[39mget_attribute(\u001b[39m'\u001b[39m\u001b[39mhref\u001b[39m\u001b[39m'\u001b[39m)\n\u001b[1;32m---> 22\u001b[0m coname \u001b[39m=\u001b[39m driver\u001b[39m.\u001b[39;49mfind_element(By\u001b[39m.\u001b[39;49mXPATH, \u001b[39m'\u001b[39;49m\u001b[39m*[@id=\u001b[39;49m\u001b[39m\"\u001b[39;49m\u001b[39mtbody\u001b[39;49m\u001b[39m\"\u001b[39;49m\u001b[39m]/tr[\u001b[39;49m\u001b[39m{i}\u001b[39;49;00m\u001b[39m]/td[4]\u001b[39;49m\u001b[39m'\u001b[39;49m)\u001b[39m.\u001b[39mget_attribute(\u001b[39m'\u001b[39m\u001b[39mtext\u001b[39m\u001b[39m'\u001b[39m)\n\u001b[0;32m     23\u001b[0m hreflist\u001b[39m.\u001b[39mappend(href)\n\u001b[0;32m     24\u001b[0m conamelist\u001b[39m.\u001b[39mappend(coname)\n",
      "File \u001b[1;32m~\\AppData\\Local\\Packages\\PythonSoftwareFoundation.Python.3.11_qbz5n2kfra8p0\\LocalCache\\local-packages\\Python311\\site-packages\\selenium\\webdriver\\remote\\webdriver.py:830\u001b[0m, in \u001b[0;36mWebDriver.find_element\u001b[1;34m(self, by, value)\u001b[0m\n\u001b[0;32m    827\u001b[0m     by \u001b[39m=\u001b[39m By\u001b[39m.\u001b[39mCSS_SELECTOR\n\u001b[0;32m    828\u001b[0m     value \u001b[39m=\u001b[39m \u001b[39mf\u001b[39m\u001b[39m'\u001b[39m\u001b[39m[name=\u001b[39m\u001b[39m\"\u001b[39m\u001b[39m{\u001b[39;00mvalue\u001b[39m}\u001b[39;00m\u001b[39m\"\u001b[39m\u001b[39m]\u001b[39m\u001b[39m'\u001b[39m\n\u001b[1;32m--> 830\u001b[0m \u001b[39mreturn\u001b[39;00m \u001b[39mself\u001b[39;49m\u001b[39m.\u001b[39;49mexecute(Command\u001b[39m.\u001b[39;49mFIND_ELEMENT, {\u001b[39m\"\u001b[39;49m\u001b[39musing\u001b[39;49m\u001b[39m\"\u001b[39;49m: by, \u001b[39m\"\u001b[39;49m\u001b[39mvalue\u001b[39;49m\u001b[39m\"\u001b[39;49m: value})[\u001b[39m\"\u001b[39m\u001b[39mvalue\u001b[39m\u001b[39m\"\u001b[39m]\n",
      "File \u001b[1;32m~\\AppData\\Local\\Packages\\PythonSoftwareFoundation.Python.3.11_qbz5n2kfra8p0\\LocalCache\\local-packages\\Python311\\site-packages\\selenium\\webdriver\\remote\\webdriver.py:440\u001b[0m, in \u001b[0;36mWebDriver.execute\u001b[1;34m(self, driver_command, params)\u001b[0m\n\u001b[0;32m    438\u001b[0m response \u001b[39m=\u001b[39m \u001b[39mself\u001b[39m\u001b[39m.\u001b[39mcommand_executor\u001b[39m.\u001b[39mexecute(driver_command, params)\n\u001b[0;32m    439\u001b[0m \u001b[39mif\u001b[39;00m response:\n\u001b[1;32m--> 440\u001b[0m     \u001b[39mself\u001b[39;49m\u001b[39m.\u001b[39;49merror_handler\u001b[39m.\u001b[39;49mcheck_response(response)\n\u001b[0;32m    441\u001b[0m     response[\u001b[39m\"\u001b[39m\u001b[39mvalue\u001b[39m\u001b[39m\"\u001b[39m] \u001b[39m=\u001b[39m \u001b[39mself\u001b[39m\u001b[39m.\u001b[39m_unwrap_value(response\u001b[39m.\u001b[39mget(\u001b[39m\"\u001b[39m\u001b[39mvalue\u001b[39m\u001b[39m\"\u001b[39m, \u001b[39mNone\u001b[39;00m))\n\u001b[0;32m    442\u001b[0m     \u001b[39mreturn\u001b[39;00m response\n",
      "File \u001b[1;32m~\\AppData\\Local\\Packages\\PythonSoftwareFoundation.Python.3.11_qbz5n2kfra8p0\\LocalCache\\local-packages\\Python311\\site-packages\\selenium\\webdriver\\remote\\errorhandler.py:245\u001b[0m, in \u001b[0;36mErrorHandler.check_response\u001b[1;34m(self, response)\u001b[0m\n\u001b[0;32m    243\u001b[0m         alert_text \u001b[39m=\u001b[39m value[\u001b[39m\"\u001b[39m\u001b[39malert\u001b[39m\u001b[39m\"\u001b[39m]\u001b[39m.\u001b[39mget(\u001b[39m\"\u001b[39m\u001b[39mtext\u001b[39m\u001b[39m\"\u001b[39m)\n\u001b[0;32m    244\u001b[0m     \u001b[39mraise\u001b[39;00m exception_class(message, screen, stacktrace, alert_text)  \u001b[39m# type: ignore[call-arg]  # mypy is not smart enough here\u001b[39;00m\n\u001b[1;32m--> 245\u001b[0m \u001b[39mraise\u001b[39;00m exception_class(message, screen, stacktrace)\n",
      "\u001b[1;31mInvalidSelectorException\u001b[0m: Message: invalid selector: Unable to locate an element with the xpath expression *[@id=\"tbody\"]/tr[{i}]/td[4] because of the following error:\nSyntaxError: Failed to execute 'evaluate' on 'Document': The string '*[@id=\"tbody\"]/tr[{i}]/td[4]' is not a valid XPath expression.\n  (Session info: chrome=109.0.5414.120)\nStacktrace:\nBacktrace:\n\t(No symbol) [0x006B6643]\n\t(No symbol) [0x0064BE21]\n\t(No symbol) [0x0054DA9D]\n\t(No symbol) [0x005509E4]\n\t(No symbol) [0x005508AD]\n\t(No symbol) [0x00550B30]\n\t(No symbol) [0x00580FAC]\n\t(No symbol) [0x0058147B]\n\t(No symbol) [0x005B8DC2]\n\t(No symbol) [0x0059FDC4]\n\t(No symbol) [0x005B6B09]\n\t(No symbol) [0x0059FB76]\n\t(No symbol) [0x005749C1]\n\t(No symbol) [0x00575E5D]\n\tGetHandleVerifier [0x0092A142+2497106]\n\tGetHandleVerifier [0x009585D3+2686691]\n\tGetHandleVerifier [0x0095BB9C+2700460]\n\tGetHandleVerifier [0x00763B10+635936]\n\t(No symbol) [0x00654A1F]\n\t(No symbol) [0x0065A418]\n\t(No symbol) [0x0065A505]\n\t(No symbol) [0x0066508B]\n\tBaseThreadInitThunk [0x75587D69+25]\n\tRtlInitializeExceptionChain [0x7785BB9B+107]\n\tRtlClearBits [0x7785BB1F+191]\n"
     ]
    }
   ],
   "source": [
    "driver.implicitly_wait(10)\n",
    "\n",
    "url = \"https://dart.fss.or.kr/dsab007/main.do\"\n",
    "driver.get(url)\n",
    "driver.implicitly_wait(10)\n",
    "selectpath = Select(driver.find_element(By.XPATH, \"//*[@id='option']\"))\n",
    "selectpath.select_by_index(2)\n",
    "input = driver.find_element(By.XPATH, '//*[@id=\"reportName\"]')\n",
    "input.send_keys('신규시설투자등')\n",
    "input.send_keys(Keys.RETURN)\n",
    "driver.implicitly_wait(10)\n",
    "time.sleep(2)\n",
    "#검색도착\n",
    "conamelist = []\n",
    "hreflist = []\n",
    "for k in range(10):        \n",
    "    for i in range(1,16):\n",
    "        \n",
    "        tds = driver.find_element(By.XPATH, f'//*[@id=\"tbody\"]/tr[{i}]/td[3]')\n",
    "        a = tds.find_element(By.TAG_NAME, 'a')\n",
    "        href = a.get_attribute('href')\n",
    "        coname = driver.find_element(By.XPATH, '*[@id=\"tbody\"]/tr[{i}]/td[4]').get_attribute('text')\n",
    "        hreflist.append(href)\n",
    "        conamelist.append(coname)\n",
    "    driver.find_element(By.XPATH, f'//*[@id=\"psWrap\"]/div[2]/ul/li[{k+4}]').send_keys(Keys.ENTER)\n",
    "    \n"
   ]
  },
  {
   "cell_type": "code",
   "execution_count": null,
   "metadata": {},
   "outputs": [],
   "source": [
    "driver.get(href)\n",
    "driver.implicitly_wait(10)"
   ]
  },
  {
   "cell_type": "code",
   "execution_count": 49,
   "metadata": {},
   "outputs": [
    {
     "ename": "NameError",
     "evalue": "name 'coname' is not defined",
     "output_type": "error",
     "traceback": [
      "\u001b[1;31m---------------------------------------------------------------------------\u001b[0m",
      "\u001b[1;31mNameError\u001b[0m                                 Traceback (most recent call last)",
      "Cell \u001b[1;32mIn[49], line 1\u001b[0m\n\u001b[1;32m----> 1\u001b[0m coname\n",
      "\u001b[1;31mNameError\u001b[0m: name 'coname' is not defined"
     ]
    }
   ],
   "source": [
    "coname"
   ]
  },
  {
   "cell_type": "code",
   "execution_count": 31,
   "metadata": {},
   "outputs": [],
   "source": [
    "coname = Finding(XPATH, )\n",
    "invcost = \n",
    "mymoney\n",
    "mymoneyrat"
   ]
  },
  {
   "cell_type": "code",
   "execution_count": 25,
   "metadata": {},
   "outputs": [
    {
     "ename": "AttributeError",
     "evalue": "'NoneType' object has no attribute 'get_attribute'",
     "output_type": "error",
     "traceback": [
      "\u001b[1;31m---------------------------------------------------------------------------\u001b[0m",
      "\u001b[1;31mAttributeError\u001b[0m                            Traceback (most recent call last)",
      "Cell \u001b[1;32mIn[25], line 4\u001b[0m\n\u001b[0;32m      2\u001b[0m \u001b[39mfor\u001b[39;00m link \u001b[39min\u001b[39;00m hrefs:\n\u001b[0;32m      3\u001b[0m     link \u001b[39m=\u001b[39m link\u001b[39m.\u001b[39mget_attribute(\u001b[39m'\u001b[39m\u001b[39ma\u001b[39m\u001b[39m'\u001b[39m)\n\u001b[1;32m----> 4\u001b[0m     link \u001b[39m=\u001b[39m link\u001b[39m.\u001b[39;49mget_attribute(\u001b[39m'\u001b[39m\u001b[39mhref\u001b[39m\u001b[39m'\u001b[39m)\n\u001b[0;32m      5\u001b[0m     linklist\u001b[39m.\u001b[39mappend(link)\n\u001b[0;32m      6\u001b[0m linklist\n",
      "\u001b[1;31mAttributeError\u001b[0m: 'NoneType' object has no attribute 'get_attribute'"
     ]
    }
   ],
   "source": [
    "linklist = []\n",
    "for link in hrefs:\n",
    "    link = link.get_attribute('a')\n",
    "    link = link.get_attribute('href')\n",
    "    linklist.append(link)\n",
    "linklist"
   ]
  },
  {
   "cell_type": "code",
   "execution_count": null,
   "metadata": {},
   "outputs": [],
   "source": [
    "//*[@id=\"reportName\"]"
   ]
  }
 ],
 "metadata": {
  "kernelspec": {
   "display_name": "Python 3",
   "language": "python",
   "name": "python3"
  },
  "language_info": {
   "codemirror_mode": {
    "name": "ipython",
    "version": 3
   },
   "file_extension": ".py",
   "mimetype": "text/x-python",
   "name": "python",
   "nbconvert_exporter": "python",
   "pygments_lexer": "ipython3",
   "version": "3.11.1"
  },
  "orig_nbformat": 4,
  "vscode": {
   "interpreter": {
    "hash": "21dc0189fb9a21c092ef76806bd007de1815d8ab3df3e5af899b0a96bb232248"
   }
  }
 },
 "nbformat": 4,
 "nbformat_minor": 2
}
