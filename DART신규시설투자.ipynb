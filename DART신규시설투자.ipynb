{
 "cells": [
  {
   "cell_type": "code",
   "execution_count": null,
   "metadata": {},
   "outputs": [],
   "source": [
    "import datetime\n",
    "from datetime import date\n",
    "from bs4 import BeautifulSoup\n",
    "import requests\n",
    "import pandas as pd\n",
    "import numpy as np\n",
    "import requests "
   ]
  },
  {
   "cell_type": "code",
   "execution_count": null,
   "metadata": {},
   "outputs": [],
   "source": [
    "from selenium import webdriver\n",
    "from selenium.webdriver import ActionChains\n",
    "\n",
    "from selenium.webdriver.common.keys import Keys\n",
    "from selenium.webdriver.common.by import By\n",
    "from selenium.webdriver.support.select import Select\n",
    "\n",
    "from selenium.webdriver.support import expected_conditions as EC\n",
    "from selenium.webdriver.support.ui import Select\n",
    "from selenium.webdriver.support.ui import WebDriverWait\n",
    "import time\n",
    "chrome_options = webdriver.ChromeOptions()\n",
    "\n",
    "#chrome_options.add_argument(\"--headless\")\n",
    "chrome_options.add_argument('--no-sandbox')\n",
    "chrome_options.add_argument('--disable-dev-shm-usage')\n",
    "driver = webdriver.Chrome('\"C:\\chrome_driver\\chromedriver.exe\"', chrome_options = chrome_options)\n",
    "time.sleep(2)"
   ]
  },
  {
   "cell_type": "code",
   "execution_count": null,
   "metadata": {},
   "outputs": [],
   "source": [
    "url = \"https://dart.fss.or.kr/dsab007/main.do\"\n",
    "driver.get(url)\n",
    "driver.implicitly_wait(10)\n",
    "selectpath = Select(driver.find_element(By.XPATH, \"//*[@id='option']\"))\n",
    "selectpath.select_by_index(2)\n",
    "input = driver.find_element(By.XPATH, '//*[@id=\"reportName\"]')\n",
    "input.send_keys('신규시설투자등')\n",
    "driver.find_element(By.XPATH, '//*[@id=\"date5\"]').send_keys(Keys.ENTER)\n",
    "driver.find_element(By.XPATH, '//*[@id=\"date5\"]').send_keys(Keys.ENTER)\n",
    "selectpath = Select(driver.find_element(By.XPATH, '//*[@id=\"maxResultsCb\"]'))\n",
    "selectpath.select_by_index(3)\n",
    "input.send_keys(Keys.RETURN)\n",
    "driver.implicitly_wait(10)\n",
    "time.sleep(2)\n",
    "#검색도착\n",
    "conamelist = []\n",
    "hreflist = []\n",
    "for k in range(5):        \n",
    "    #try:    \n",
    "        for i in range(1,101):\n",
    "            try:\n",
    "                time.sleep(0.5)\n",
    "                tds = driver.find_element(By.XPATH, f'//*[@id=\"tbody\"]/tr[{i}]/td[3]')\n",
    "                a = tds.find_element(By.TAG_NAME, 'a')\n",
    "                href = a.get_attribute('href')\n",
    "                coname = driver.find_element(By.XPATH, f'//*[@id=\"tbody\"]/tr[{i}]/td[4]').get_attribute('innerText')\n",
    "                hreflist.append(href)\n",
    "                conamelist.append(coname)\n",
    "                print(i)\n",
    "                \n",
    "            except:\n",
    "                print('오류','-'*50)\n",
    "        driver.find_element(By.XPATH, f'//*[@id=\"psWrap\"]/div[2]/ul/li[{k+2}]/a').send_keys(Keys.ENTER)\n",
    "        time.sleep(4)\n",
    "   # except:\n",
    "     #   break\n"
   ]
  },
  {
   "cell_type": "code",
   "execution_count": null,
   "metadata": {},
   "outputs": [],
   "source": [
    "len(conamelist)"
   ]
  },
  {
   "cell_type": "code",
   "execution_count": null,
   "metadata": {},
   "outputs": [],
   "source": [
    "conamelist\n",
    "invlist = []\n",
    "mymoneylist = []\n",
    "driver.implicitly_wait(0.5)\n",
    "mymoneyratlist = []\n",
    "purposelist = []\n",
    "for link,coname,number in zip(hreflist,conamelist,range(len(conamelist))):    \n",
    "    driver.get(link)\n",
    "    iframes = driver.find_element(By.TAG_NAME, 'iframe')\n",
    "    driver.switch_to.frame(iframes)\n",
    "    try: \n",
    "        inv = driver.find_element(By.XPATH, '//*[@id=\"XFormD1_Form0_Table0\"]/tbody/tr[2]/td[3]/span').get_attribute('innerText')\n",
    "        invlist.append(inv.replace(',',''))\n",
    "        mymoney = driver.find_element(By.XPATH, '//*[@id=\"XFormD1_Form0_Table0\"]/tbody/tr[3]/td[2]/span').get_attribute('innerText')\n",
    "        mymoneylist.append(mymoney.replace(',', ''))\n",
    "        mymoneyrat = driver.find_element(By.XPATH, '//*[@id=\"XFormD1_Form0_Table0\"]/tbody/tr[4]/td[2]/span').get_attribute('innerText')\n",
    "        mymoneylist.append(mymoneyrat)\n",
    "        purpose = driver.find_element(By.XPATH, '//*[@id=\"XFormD1_Form0_Table0\"]/tbody/tr[6]/td[2]/span').get_attribute('innerText')\n",
    "        purposelist.append(purpose.strip())\n",
    "        time.sleep(2)\n",
    "    except:\n",
    "        inv = driver.find_element(By.XPATH, '//*[@id=\"XFormD1_Form0_Table0\"]/tbody/tr[3]/td[3]/span').get_attribute('innerText')\n",
    "        invlist.append(inv.replace(',',''))\n",
    "        mymoney = driver.find_element(By.XPATH, '//*[@id=\"XFormD1_Form0_Table0\"]/tbody/tr[4]/td[2]/span').get_attribute('innerText')\n",
    "        mymoneylist.append(mymoney.replace(',', ''))\n",
    "        mymoneyrat = driver.find_element(By.XPATH, '//*[@id=\"XFormD1_Form0_Table0\"]/tbody/tr[5]/td[2]/span').get_attribute('innerText')\n",
    "        mymoneylist.append(mymoneyrat)\n",
    "        purpose = driver.find_element(By.XPATH, '//*[@id=\"XFormD1_Form0_Table0\"]/tbody/tr[7]/td[2]/span').get_attribute('innerText')\n",
    "        purposelist.append(purpose.strip())\n",
    "        time.sleep(2)\n",
    "    print(f'{number}' + coname)\n",
    "    print(mymoneyrat)\n"
   ]
  },
  {
   "cell_type": "code",
   "execution_count": null,
   "metadata": {},
   "outputs": [],
   "source": [
    "realmymoneylist = mymoneylist[0::2]\n",
    "mymoneyratlist = mymoneylist[1::2]"
   ]
  },
  {
   "cell_type": "code",
   "execution_count": null,
   "metadata": {},
   "outputs": [],
   "source": [
    "df = pd.DataFrame({'기업명': conamelist ,\n",
    "                   '투자금액' : invlist , \n",
    "                   '자기자본' : realmymoneylist, \n",
    "                   '자기자본비율' : mymoneyratlist, \n",
    "                   '투자목적' : purposelist})\n",
    "df"
   ]
  },
  {
   "cell_type": "code",
   "execution_count": null,
   "metadata": {},
   "outputs": [],
   "source": [
    "df['자기자본비율'].astype('str')"
   ]
  }
 ],
 "metadata": {
  "kernelspec": {
   "display_name": "Python 3",
   "language": "python",
   "name": "python3"
  },
  "language_info": {
   "codemirror_mode": {
    "name": "ipython",
    "version": 3
   },
   "file_extension": ".py",
   "mimetype": "text/x-python",
   "name": "python",
   "nbconvert_exporter": "python",
   "pygments_lexer": "ipython3",
   "version": "3.11.1"
  },
  "orig_nbformat": 4,
  "vscode": {
   "interpreter": {
    "hash": "21dc0189fb9a21c092ef76806bd007de1815d8ab3df3e5af899b0a96bb232248"
   }
  }
 },
 "nbformat": 4,
 "nbformat_minor": 2
}
