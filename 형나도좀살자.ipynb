{
 "cells": [
  {
   "cell_type": "code",
   "execution_count": 3,
   "metadata": {},
   "outputs": [
    {
     "name": "stdout",
     "output_type": "stream",
     "text": [
      "이거 저장 되나\n",
      "다른 컴퓨터에서도 가능한가 확인, 변경사항이 왜 안나오지\n"
     ]
    }
   ],
   "source": [
    "print(\"이거 저장 되나\")\n",
    "print('다른 컴퓨터에서도 가능한가 확인, 변경사항이 왜 안나오지')"
   ]
  }
 ],
 "metadata": {
  "kernelspec": {
   "display_name": "Python 3",
   "language": "python",
   "name": "python3"
  },
  "language_info": {
   "codemirror_mode": {
    "name": "ipython",
    "version": 3
   },
   "file_extension": ".py",
   "mimetype": "text/x-python",
   "name": "python",
   "nbconvert_exporter": "python",
   "pygments_lexer": "ipython3",
   "version": "3.11.1"
  },
  "orig_nbformat": 4,
  "vscode": {
   "interpreter": {
    "hash": "bda418782055e3309093e7e4a7247ebd6eeec46806dff27684291b9372624fa9"
   }
  }
 },
 "nbformat": 4,
 "nbformat_minor": 2
}
